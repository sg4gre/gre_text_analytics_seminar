{
 "cells": [
  {
   "cell_type": "markdown",
   "metadata": {
    "id": "NPrxkJivjX7S"
   },
   "source": [
    "# Bonus tutorial: Intro to Python\n",
    "This notebook contains some guidance for a basic (and practice-focused) introduction to Python.\n",
    "\n",
    "[Adapted by  from a previous module's tutorial, which was adapted from [here](https://github.com/Pierian-Data/Complete-Python-3-Bootcamp/tree/master/00-Python%20Object%20and%20Data%20Structure%20Basics).]\n",
    "\n",
    "This type of file is called a \"Jupyter notebook\", which is an interactive version of python. You can run small blocks of code, called cell, one at a time. One cell corresponds to one of those grey rectangle you see below.\n",
    "\n",
    "If you click on a cell, you can run it by clicking SHIFT+ENTER.\n",
    "\n",
    "You can also run all cells above and below a given one. To do this, click on the \"Run\" tab in the menu above and select the appropriate entry.\n",
    "\n",
    "If anything goes wrong, chances are the \"kernel\" (basically, the python software) has been overloaded and stopper working. Try click on the \"Run\" tab in the menu above and select \"Restart Kernel\". Worst-case scenario, exit everything and start again.\n"
   ]
  },
  {
   "cell_type": "markdown",
   "metadata": {
    "id": "9ply5j-OjhlK"
   },
   "source": [
    "# Import modules\n",
    "\n",
    "One of Python's strengths is the existence of many added functionalities provided by external modules. A module is a Python script that contains various functions and classes (a class is a blueprint to create an object) that we can use. A collection of modules is called a package. \n",
    "\n",
    "Since a module exists outside of this script it needs to be \"imported\", that is it needs to be made known and availaible to this script. Like this:"
   ]
  },
  {
   "cell_type": "code",
   "execution_count": null,
   "metadata": {
    "colab": {
     "base_uri": "https://localhost:8080/"
    },
    "id": "h2XZS-14jLzX",
    "outputId": "0254ebda-3a47-4ca1-c519-8682c31655e7"
   },
   "outputs": [
    {
     "name": "stdout",
     "output_type": "stream",
     "text": [
      "0.9972160458134754\n"
     ]
    }
   ],
   "source": [
    "# random is a package that lets us generate lots of different types of random numbers\n",
    "import random\n",
    "\n",
    "# To call functions defined within a package we use the \"dot notation\"\n",
    "# \n",
    "# The output of the next line should be a \n",
    "print(random.random())\n"
   ]
  },
  {
   "cell_type": "markdown",
   "metadata": {
    "id": "sHHk-g1KttDQ"
   },
   "source": [
    "# Variables\n",
    "\n",
    "To keep track of what's happening in the script, we need variable.\n",
    "Variables are objects that contain specific information, like a number, a list of numbers or a piece of text. \n",
    "\n",
    "They are created via assignment. That is we can use the equal sign (=) to assign whatever it's on its right hand side to the variable on its left hand side. A variable is identified by its name. To summarize, an assignment follows the structure:\n",
    "\n",
    "`name_of_variable = object`\n",
    "\n",
    "The equal sign is called assignment operator.\n",
    "\n",
    "For example:"
   ]
  },
  {
   "cell_type": "code",
   "execution_count": 12,
   "metadata": {
    "colab": {
     "base_uri": "https://localhost:8080/"
    },
    "id": "HWiCquB2jXgL",
    "outputId": "86a89e16-5366-4050-d760-719c507ddaa2"
   },
   "outputs": [
    {
     "name": "stdout",
     "output_type": "stream",
     "text": [
      "0\n",
      "this is a text\n"
     ]
    }
   ],
   "source": [
    "# Here we create a variable called \"variable_num\" and assign the number 0 to it\n",
    "variable_num= 0\n",
    "\n",
    "# Here we create a variable called \"variable_test\" and assign the text \"this is a text\" to it\n",
    "variable_text= \"this is a text\"\n",
    "\n",
    "print(variable_num)\n",
    "print(variable_text)\n"
   ]
  },
  {
   "cell_type": "markdown",
   "metadata": {
    "id": "i44-LCbCutfm"
   },
   "source": [
    "Now we can use these variables again and again and they will still have the same value unless we change it. Let's try again:"
   ]
  },
  {
   "cell_type": "code",
   "execution_count": null,
   "metadata": {
    "colab": {
     "base_uri": "https://localhost:8080/"
    },
    "id": "qqJ7GQkhjXdb",
    "outputId": "2bbf2cb1-75b9-4f89-a131-7fb9952abee1"
   },
   "outputs": [
    {
     "name": "stdout",
     "output_type": "stream",
     "text": [
      "0\n",
      "this is a text\n"
     ]
    }
   ],
   "source": [
    "print(variable_num)\n",
    "print(variable_text)"
   ]
  },
  {
   "cell_type": "markdown",
   "metadata": {
    "id": "o_5fYcJIu8xj"
   },
   "source": [
    "Remember to assign useful names to your variables! Try to avoid using generic names like \"a\" and \"b\". The name of a variable should make it easy to remember what is inside that variable.\n",
    "\n",
    "Also, variable names should follow a few rules:\n",
    "\n",
    "    1. Names should not start with a number\n",
    "    2. Do not use spaces in the name, use _ instead\n",
    "    3. Do not use any of these symbols :'\",<>/?|\\()!@#$%^&*~-+\n",
    "    4. It's considered best practice (PEP8) that names are lowercase or CamelCase\n",
    "    5. Do not use words that have special meaning in Python like \"list\" and \"str\"\n",
    "\n",
    "For example:"
   ]
  },
  {
   "cell_type": "code",
   "execution_count": null,
   "metadata": {
    "colab": {
     "base_uri": "https://localhost:8080/"
    },
    "id": "RTEY-hdxjXa8",
    "outputId": "94e2c8d3-930e-4aa0-a24c-dbc71b50c52d"
   },
   "outputs": [
    {
     "name": "stdout",
     "output_type": "stream",
     "text": [
      "Today is Friday\n",
      "Today is Friday\n"
     ]
    }
   ],
   "source": [
    "day_of_the_week = 'Friday' # good practice\n",
    "a= 'Friday' # less good because it's less self-explanatory\n",
    "\n",
    "# Notice the difference in readibility:\n",
    "print('Today is', day_of_the_week)\n",
    "print('Today is', a)\n"
   ]
  },
  {
   "cell_type": "markdown",
   "metadata": {
    "id": "dpom_dNXwbI7"
   },
   "source": [
    "After I assign a variable, can I change it?"
   ]
  },
  {
   "cell_type": "code",
   "execution_count": 15,
   "metadata": {
    "id": "scnJggW3DHGA"
   },
   "outputs": [],
   "source": [
    "# Reassignment\n",
    "variable_num = 20"
   ]
  },
  {
   "cell_type": "code",
   "execution_count": 16,
   "metadata": {
    "colab": {
     "base_uri": "https://localhost:8080/"
    },
    "id": "58gZjcm5DHGJ",
    "outputId": "9b63650b-4ff0-40d1-9498-adf1312764a0"
   },
   "outputs": [
    {
     "name": "stdout",
     "output_type": "stream",
     "text": [
      "20\n"
     ]
    }
   ],
   "source": [
    "# Check\n",
    "print(variable_num)"
   ]
  },
  {
   "cell_type": "markdown",
   "metadata": {
    "id": "92PaBgDvDHGY"
   },
   "source": [
    "We can change the value of a variable by performing a new assignment. \n",
    "We can also use a variable to assign another variable. We can even overwrite a variable with a modified version of itself. For example:"
   ]
  },
  {
   "cell_type": "code",
   "execution_count": 17,
   "metadata": {
    "id": "Jq5XRxfxDHGq"
   },
   "outputs": [],
   "source": [
    "# assign a variable with a modified version of itself:\n",
    "variable_num = variable_num + variable_num\n",
    "\n",
    "# assign a variable with a variable\n",
    "second_variable_num = variable_num"
   ]
  },
  {
   "cell_type": "code",
   "execution_count": 18,
   "metadata": {
    "colab": {
     "base_uri": "https://localhost:8080/"
    },
    "id": "PPhA64dLDHG2",
    "outputId": "46929886-d04e-4c75-ad5d-94665ec658c3"
   },
   "outputs": [
    {
     "name": "stdout",
     "output_type": "stream",
     "text": [
      "40\n",
      "40\n"
     ]
    }
   ],
   "source": [
    "# Check \n",
    "print(variable_num)\n",
    "print(second_variable_num)\n"
   ]
  },
  {
   "cell_type": "markdown",
   "metadata": {
    "id": "_RDRJadh1KCY"
   },
   "source": [
    "# Main Python objects\n",
    "\n",
    "There are many different types of objects that can be assigned to a variable. Python has a few important data types that you will be working with all the time. Common data types include:\n",
    "* **int** (for integer numbers)\n",
    "* **float** (for floating-point numbers, that is numbers with decimal points)\n",
    "* **str** (for string)\n",
    "* **list** (a collection of objects)\n",
    "* **tuple** (an immutable collection of objects)\n",
    "* **dict** (for dictionary)\n",
    "* **set** (a collection of unique objects)\n",
    "* **bool** (for Boolean True/False)\n",
    "\n",
    "You can check what type of object is assigned to a variable using Python's built-in `type()` function.\n",
    "\n",
    "For example:"
   ]
  },
  {
   "cell_type": "code",
   "execution_count": 20,
   "metadata": {
    "colab": {
     "base_uri": "https://localhost:8080/"
    },
    "id": "u9wifRrY1JlT",
    "outputId": "9ef1226b-ed97-46cb-9c26-93f923711579"
   },
   "outputs": [
    {
     "name": "stdout",
     "output_type": "stream",
     "text": [
      "<class 'int'>\n",
      "<class 'float'>\n",
      "<class 'str'>\n"
     ]
    }
   ],
   "source": [
    "variable_int= 1\n",
    "variable_float= 1.1 #note that 1 is an integer, but 1. is a float!\n",
    "\n",
    "print(type(variable_int))\n",
    "print(type(variable_float))\n",
    "print(type(variable_text)) #remember the one from before?\n"
   ]
  },
  {
   "cell_type": "markdown",
   "metadata": {
    "id": "PT6BrggK3q4X"
   },
   "source": [
    "Let's dig a bit deeper into each variable type."
   ]
  },
  {
   "cell_type": "markdown",
   "metadata": {
    "id": "UPFdQGvVWBeE"
   },
   "source": [
    "## Strings"
   ]
  },
  {
   "cell_type": "markdown",
   "metadata": {
    "id": "xDKNpVuEWBeH"
   },
   "source": [
    "Strings are used in Python to record text information. Strings in Python are actually a *sequence* of characters in a specific order. This means that the word \"car\" is interpreted by Python as the letter \"c\" in the first position, the letter \"a\" in the second position and the letter \"r\" in the third position.\n"
   ]
  },
  {
   "cell_type": "markdown",
   "metadata": {
    "id": "1_SIzpBxAU2S"
   },
   "source": [
    "### Creating strings"
   ]
  },
  {
   "cell_type": "markdown",
   "metadata": {
    "id": "yOxBpmZ7WBeI"
   },
   "source": [
    "To create a string in Python you need to use either single quotes or double quotes. For example:"
   ]
  },
  {
   "cell_type": "code",
   "execution_count": 30,
   "metadata": {
    "colab": {
     "base_uri": "https://localhost:8080/",
     "height": 36
    },
    "id": "bJHuvF44WBeK",
    "outputId": "23557f7a-b3cf-4795-b16c-430926ded0e5"
   },
   "outputs": [
    {
     "data": {
      "application/vnd.google.colaboratory.intrinsic+json": {
       "type": "string"
      },
      "text/plain": [
       "'word'"
      ]
     },
     "execution_count": 30,
     "metadata": {},
     "output_type": "execute_result"
    }
   ],
   "source": [
    "# Single word\n",
    "var_string='word'\n",
    "print(var_string)"
   ]
  },
  {
   "cell_type": "code",
   "execution_count": 28,
   "metadata": {
    "colab": {
     "base_uri": "https://localhost:8080/",
     "height": 36
    },
    "id": "1JFv7U-05Z-D",
    "outputId": "91c5c13e-f95e-4e94-c274-4b97d749d46e"
   },
   "outputs": [
    {
     "data": {
      "application/vnd.google.colaboratory.intrinsic+json": {
       "type": "string"
      },
      "text/plain": [
       "'This is a string with multiple words'"
      ]
     },
     "execution_count": 28,
     "metadata": {},
     "output_type": "execute_result"
    }
   ],
   "source": [
    "# Entire phrase \n",
    "var_string='This is a string with multiple words'\n",
    "\n",
    "# Note that Python doesn't really know what a word is. It simply stores a sequence\n",
    "# of characters that includes white spaces\n",
    "print(var_string)"
   ]
  },
  {
   "cell_type": "code",
   "execution_count": 29,
   "metadata": {
    "colab": {
     "base_uri": "https://localhost:8080/",
     "height": 36
    },
    "id": "2uiK1gSu5Z-W",
    "outputId": "575804c6-9df0-4d13-a26e-ef564ba33402"
   },
   "outputs": [
    {
     "data": {
      "application/vnd.google.colaboratory.intrinsic+json": {
       "type": "string"
      },
      "text/plain": [
       "'This is still a string'"
      ]
     },
     "execution_count": 29,
     "metadata": {},
     "output_type": "execute_result"
    }
   ],
   "source": [
    "# We can also use double quote\n",
    "var_string=\"This is still a string\"\n",
    "print(var_string)"
   ]
  },
  {
   "cell_type": "code",
   "execution_count": 31,
   "metadata": {
    "colab": {
     "base_uri": "https://localhost:8080/",
     "height": 137
    },
    "id": "ug8TJa5C5Z-q",
    "outputId": "9be15ee0-d6c2-4e29-f94e-892f7b15bfa8"
   },
   "outputs": [
    {
     "ename": "SyntaxError",
     "evalue": "ignored",
     "output_type": "error",
     "traceback": [
      "\u001b[0;36m  File \u001b[0;32m\"<ipython-input-31-81d4f033131c>\"\u001b[0;36m, line \u001b[0;32m2\u001b[0m\n\u001b[0;31m    ' I'm using single quotes, but this will create an error'\u001b[0m\n\u001b[0m        ^\u001b[0m\n\u001b[0;31mSyntaxError\u001b[0m\u001b[0;31m:\u001b[0m invalid syntax\n"
     ]
    }
   ],
   "source": [
    "# Be careful with quotes within quotes!\n",
    "' I'm using single quotes, but this will create an error'"
   ]
  },
  {
   "cell_type": "markdown",
   "metadata": {
    "id": "h63r0XY-5Z_I"
   },
   "source": [
    "The reason for the error above is because Python interprets the single quote in <code>I'm</code> as the end of the string. So it doesn't know how to interpret what follows it! You can use combinations of double and single quotes to get the complete statement."
   ]
  },
  {
   "cell_type": "code",
   "execution_count": 33,
   "metadata": {
    "colab": {
     "base_uri": "https://localhost:8080/"
    },
    "id": "Pka4tOp75Z_N",
    "outputId": "58ac1d8f-f31c-4854-e41e-5a2046e0bce0"
   },
   "outputs": [
    {
     "name": "stdout",
     "output_type": "stream",
     "text": [
      "Now I'm ready to use the single quotes inside a string!\n"
     ]
    }
   ],
   "source": [
    "var_string=\"Now I'm ready to use the single quotes inside a string!\"\n",
    "print(var_string)"
   ]
  },
  {
   "cell_type": "markdown",
   "metadata": {
    "id": "ojIiHaNVWBfP"
   },
   "source": [
    "We can use a function called len() to check the length of a string! This function in built-in into Python and counts all characters in a string, including spaces and punctuation."
   ]
  },
  {
   "cell_type": "code",
   "execution_count": null,
   "metadata": {
    "id": "dslXBUdNWBfP"
   },
   "outputs": [],
   "source": [
    "len('Hello World')"
   ]
  },
  {
   "cell_type": "markdown",
   "metadata": {
    "id": "GbUASvyr7h5p"
   },
   "source": [
    "We can retrieve portions (that is, individual or subsets of characters) of a strings by indexing. In Python indexing is performed by having square brackets after a variable name, where the square brackets contain the indices we are interested in.\n",
    "\n",
    "Important note: Python's indexing starts at 0. This means that the first character has the index 0, the second has the index 1, and so on...\n",
    "\n",
    "For example:"
   ]
  },
  {
   "cell_type": "code",
   "execution_count": 40,
   "metadata": {
    "id": "PwDQ7JTd8Lk_"
   },
   "outputs": [],
   "source": [
    "var_string= \"012345 This is a string\""
   ]
  },
  {
   "cell_type": "code",
   "execution_count": 41,
   "metadata": {
    "colab": {
     "base_uri": "https://localhost:8080/",
     "height": 36
    },
    "id": "BRXudZJ7WBf1",
    "outputId": "5827768d-de84-4012-88c0-9bdbda9e0343"
   },
   "outputs": [
    {
     "data": {
      "application/vnd.google.colaboratory.intrinsic+json": {
       "type": "string"
      },
      "text/plain": [
       "'0'"
      ]
     },
     "execution_count": 41,
     "metadata": {},
     "output_type": "execute_result"
    }
   ],
   "source": [
    "# Show first element (in this case the number 0)\n",
    "var_string[0]"
   ]
  },
  {
   "cell_type": "code",
   "execution_count": 42,
   "metadata": {
    "colab": {
     "base_uri": "https://localhost:8080/",
     "height": 36
    },
    "id": "fX5lLPzcWBf9",
    "outputId": "548bd673-2628-45ea-a4f1-a7e8d946b2ac"
   },
   "outputs": [
    {
     "data": {
      "application/vnd.google.colaboratory.intrinsic+json": {
       "type": "string"
      },
      "text/plain": [
       "'1'"
      ]
     },
     "execution_count": 42,
     "metadata": {},
     "output_type": "execute_result"
    }
   ],
   "source": [
    "# second character\n",
    "var_string[1]"
   ]
  },
  {
   "cell_type": "markdown",
   "metadata": {
    "id": "sUHU0Vpo8WuL"
   },
   "source": [
    "How about the last character? We have two ways:\n",
    "1. use negative numbers, that is count the position going backwards\n",
    "2. remember that the last character is in a position given by the length of the string itself **minus** 1 (because indexing starts at 0)\n"
   ]
  },
  {
   "cell_type": "code",
   "execution_count": 43,
   "metadata": {
    "colab": {
     "base_uri": "https://localhost:8080/"
    },
    "id": "d82LBSK1WBgD",
    "outputId": "9d20a9b1-d8ec-43ea-8501-da563d2ab3fc"
   },
   "outputs": [
    {
     "name": "stdout",
     "output_type": "stream",
     "text": [
      "g\n",
      "g\n"
     ]
    }
   ],
   "source": [
    "# how about the last one?\n",
    "print(var_string[-1])\n",
    "print(var_string[len(var_string)-1])\n"
   ]
  },
  {
   "cell_type": "markdown",
   "metadata": {
    "id": "FkKByu_MWBgJ"
   },
   "source": [
    "We can use a <code>:</code> to perform *slicing* which grabs indices based on a specific pattern. The pattern is:\n",
    "`start:stop:step` \n",
    "\n",
    "It grabs everything from index `start` (included) to index `stop` (**not** included) in increments of `step`. \n",
    "\n",
    "That is:"
   ]
  },
  {
   "cell_type": "code",
   "execution_count": 49,
   "metadata": {
    "colab": {
     "base_uri": "https://localhost:8080/"
    },
    "id": "8Pr2V6pSWBgk",
    "outputId": "310a35fa-57b9-464e-af5a-231ef33d1436"
   },
   "outputs": [
    {
     "name": "stdout",
     "output_type": "stream",
     "text": [
      "012345 This is a string\n",
      "135\n",
      "024 hsi  tig\n"
     ]
    }
   ],
   "source": [
    "#Check the string\n",
    "print(var_string)\n",
    "\n",
    "#This will print character 1,3,5 (not 5 because 7 is not included). \n",
    "# You can double check from the string itself!\n",
    "print(var_string[1:7:2])\n",
    "\n",
    "# This will print from beginning to end in increments of 2\n",
    "print(var_string[::2])\n"
   ]
  },
  {
   "cell_type": "markdown",
   "metadata": {
    "id": "ng0CdeJs9bIy"
   },
   "source": [
    "Note that is `start` is omitted, Python starts at the beginning. If `end` is omitted, Python will keep going until the last index. If `step` is omitted each successive index is incremented by one.\n",
    "For example:"
   ]
  },
  {
   "cell_type": "code",
   "execution_count": 46,
   "metadata": {
    "colab": {
     "base_uri": "https://localhost:8080/"
    },
    "id": "UxSCWxqkWBgL",
    "outputId": "51325fa4-91f4-4377-a362-049c655d70cb"
   },
   "outputs": [
    {
     "name": "stdout",
     "output_type": "stream",
     "text": [
      "01234\n"
     ]
    }
   ],
   "source": [
    "# Take everything from the character at the start until the 5th one \n",
    "# (note the 5th character has the index 4, while index 5, the 6th character, is excluded)\n",
    "print(var_string[:5])\n"
   ]
  },
  {
   "cell_type": "code",
   "execution_count": 51,
   "metadata": {
    "colab": {
     "base_uri": "https://localhost:8080/",
     "height": 36
    },
    "id": "1wnMpcZUWBhC",
    "outputId": "d0eeeb86-de57-42cc-92de-86bd30c7620a"
   },
   "outputs": [
    {
     "data": {
      "application/vnd.google.colaboratory.intrinsic+json": {
       "type": "string"
      },
      "text/plain": [
       "'gnirts a si sihT 543210'"
      ]
     },
     "execution_count": 51,
     "metadata": {},
     "output_type": "execute_result"
    }
   ],
   "source": [
    "# Finally, we can use this to print a string backwards\n",
    "var_string[::-1]"
   ]
  },
  {
   "cell_type": "markdown",
   "metadata": {
    "collapsed": true,
    "id": "Lp9s45QAWBhJ",
    "jupyter": {
     "outputs_hidden": true
    }
   },
   "source": [
    "### String Properties\n",
    "It's important to note that strings have an important property known as *immutability*. This means that once a string is created, the elements within it can not be changed or replaced. For example:"
   ]
  },
  {
   "cell_type": "code",
   "execution_count": 52,
   "metadata": {
    "id": "_jf43al5WBhK"
   },
   "outputs": [],
   "source": [
    "var_string='try'"
   ]
  },
  {
   "cell_type": "code",
   "execution_count": 54,
   "metadata": {
    "colab": {
     "base_uri": "https://localhost:8080/",
     "height": 193
    },
    "id": "uyvtajAgWBhP",
    "outputId": "c17cbb0b-470a-40d3-ac95-49eb0e4e457d"
   },
   "outputs": [
    {
     "ename": "TypeError",
     "evalue": "ignored",
     "output_type": "error",
     "traceback": [
      "\u001b[0;31m---------------------------------------------------------------------------\u001b[0m",
      "\u001b[0;31mTypeError\u001b[0m                                 Traceback (most recent call last)",
      "\u001b[0;32m<ipython-input-54-e3a61db65847>\u001b[0m in \u001b[0;36m<module>\u001b[0;34m()\u001b[0m\n\u001b[1;32m      1\u001b[0m \u001b[0;31m# Let's try to change the first letter to 'x'\u001b[0m\u001b[0;34m\u001b[0m\u001b[0;34m\u001b[0m\u001b[0;34m\u001b[0m\u001b[0m\n\u001b[0;32m----> 2\u001b[0;31m \u001b[0mvar_string\u001b[0m\u001b[0;34m[\u001b[0m\u001b[0;36m0\u001b[0m\u001b[0;34m]\u001b[0m \u001b[0;34m=\u001b[0m \u001b[0;34m'x'\u001b[0m\u001b[0;34m\u001b[0m\u001b[0;34m\u001b[0m\u001b[0m\n\u001b[0m",
      "\u001b[0;31mTypeError\u001b[0m: 'str' object does not support item assignment"
     ]
    }
   ],
   "source": [
    "# Let's try to change the first letter to 'x'\n",
    "var_string[0] = 'x'"
   ]
  },
  {
   "cell_type": "markdown",
   "metadata": {
    "id": "l4QT3X0zWBhS"
   },
   "source": [
    "Notice how the error tells us directly what we can't do, change the item assignment!\n",
    "\n",
    "Something we *can* do is concatenate strings!"
   ]
  },
  {
   "cell_type": "code",
   "execution_count": 55,
   "metadata": {
    "colab": {
     "base_uri": "https://localhost:8080/",
     "height": 36
    },
    "id": "vYXeNMblWBhU",
    "outputId": "fbe1e3f6-123a-4377-d4fc-61ce169f71f2"
   },
   "outputs": [
    {
     "data": {
      "application/vnd.google.colaboratory.intrinsic+json": {
       "type": "string"
      },
      "text/plain": [
       "'012345 This is a string'"
      ]
     },
     "execution_count": 55,
     "metadata": {},
     "output_type": "execute_result"
    }
   ],
   "source": [
    "var_string"
   ]
  },
  {
   "cell_type": "code",
   "execution_count": 56,
   "metadata": {
    "colab": {
     "base_uri": "https://localhost:8080/",
     "height": 36
    },
    "id": "XR0S1jKxWBhY",
    "outputId": "7f63db00-62da-40bb-f7dd-c61556fcd47f"
   },
   "outputs": [
    {
     "data": {
      "application/vnd.google.colaboratory.intrinsic+json": {
       "type": "string"
      },
      "text/plain": [
       "'012345 This is a string concatenate me!'"
      ]
     },
     "execution_count": 56,
     "metadata": {},
     "output_type": "execute_result"
    }
   ],
   "source": [
    "# Concatenate strings!\n",
    "var_string + ' concatenate me!'"
   ]
  },
  {
   "cell_type": "code",
   "execution_count": 57,
   "metadata": {
    "id": "m6SB7GL5WBhj"
   },
   "outputs": [],
   "source": [
    "# We can reassign s completely though!\n",
    "var_string = var_string + ' concatenate me!'"
   ]
  },
  {
   "cell_type": "code",
   "execution_count": 58,
   "metadata": {
    "colab": {
     "base_uri": "https://localhost:8080/"
    },
    "id": "gHalRyTRWBhn",
    "outputId": "86d84e3b-04e3-4ba4-a8b8-9f88d52964ee"
   },
   "outputs": [
    {
     "name": "stdout",
     "output_type": "stream",
     "text": [
      "012345 This is a string concatenate me!\n"
     ]
    }
   ],
   "source": [
    "print(var_string)"
   ]
  },
  {
   "cell_type": "markdown",
   "metadata": {
    "id": "e8-jq_1QWBhz"
   },
   "source": [
    "We can use the multiplication symbol to create repetition!"
   ]
  },
  {
   "cell_type": "code",
   "execution_count": 59,
   "metadata": {
    "colab": {
     "base_uri": "https://localhost:8080/",
     "height": 36
    },
    "id": "TOU8obx8WBh1",
    "outputId": "7e501d2e-2b64-405e-b65e-e2ef7588e445"
   },
   "outputs": [
    {
     "data": {
      "application/vnd.google.colaboratory.intrinsic+json": {
       "type": "string"
      },
      "text/plain": [
       "'z z z z z z z z z z '"
      ]
     },
     "execution_count": 59,
     "metadata": {},
     "output_type": "execute_result"
    }
   ],
   "source": [
    "letter = 'z '\n",
    "10*letter"
   ]
  },
  {
   "cell_type": "markdown",
   "metadata": {
    "id": "zeomX4Z-WBiB"
   },
   "source": [
    "### Basic Built-in String methods\n",
    "\n",
    "Objects in Python usually have built-in methods. These methods are functions inside the object (we will learn about these in much more depth later) that can perform actions or commands on the object itself.\n",
    "\n",
    "We call methods with the \"dot notation\", that is a period followed by the method name. Methods are in the form:\n",
    "\n",
    "object.method(parameters)\n",
    "\n",
    "Where parameters are extra arguments we can pass into the method. Don't worry if the details don't make 100% sense right now. Later on we will be creating our own objects and functions!\n",
    "\n",
    "Here are some examples of built-in methods in strings:"
   ]
  },
  {
   "cell_type": "code",
   "execution_count": 60,
   "metadata": {
    "colab": {
     "base_uri": "https://localhost:8080/",
     "height": 36
    },
    "id": "cazJg7rBWBiD",
    "outputId": "0d6fac57-69d5-43c2-c9aa-50a78cefe259"
   },
   "outputs": [
    {
     "data": {
      "application/vnd.google.colaboratory.intrinsic+json": {
       "type": "string"
      },
      "text/plain": [
       "'012345 This is a string concatenate me!'"
      ]
     },
     "execution_count": 60,
     "metadata": {},
     "output_type": "execute_result"
    }
   ],
   "source": [
    "var_string"
   ]
  },
  {
   "cell_type": "code",
   "execution_count": 61,
   "metadata": {
    "colab": {
     "base_uri": "https://localhost:8080/",
     "height": 36
    },
    "id": "1yAjve4tWBiI",
    "outputId": "dfe9f22e-b31e-46d1-f843-893718df61fc"
   },
   "outputs": [
    {
     "data": {
      "application/vnd.google.colaboratory.intrinsic+json": {
       "type": "string"
      },
      "text/plain": [
       "'012345 THIS IS A STRING CONCATENATE ME!'"
      ]
     },
     "execution_count": 61,
     "metadata": {},
     "output_type": "execute_result"
    }
   ],
   "source": [
    "# Upper Case a string\n",
    "var_string.upper()"
   ]
  },
  {
   "cell_type": "code",
   "execution_count": 62,
   "metadata": {
    "colab": {
     "base_uri": "https://localhost:8080/",
     "height": 36
    },
    "id": "JB3GtZZoWBiQ",
    "outputId": "f192dea6-2714-48e2-92ab-719bc49cdcc7"
   },
   "outputs": [
    {
     "data": {
      "application/vnd.google.colaboratory.intrinsic+json": {
       "type": "string"
      },
      "text/plain": [
       "'012345 this is a string concatenate me!'"
      ]
     },
     "execution_count": 62,
     "metadata": {},
     "output_type": "execute_result"
    }
   ],
   "source": [
    "# Lower case\n",
    "var_string.lower()"
   ]
  },
  {
   "cell_type": "code",
   "execution_count": 63,
   "metadata": {
    "colab": {
     "base_uri": "https://localhost:8080/"
    },
    "id": "gSy9pSWnWBii",
    "outputId": "a68aa75f-d724-4588-8daf-4860df3d2384"
   },
   "outputs": [
    {
     "data": {
      "text/plain": [
       "['012345', 'This', 'is', 'a', 'string', 'concatenate', 'me!']"
      ]
     },
     "execution_count": 63,
     "metadata": {},
     "output_type": "execute_result"
    }
   ],
   "source": [
    "# Split a string by blank space (this is the default)\n",
    "var_string.split()"
   ]
  },
  {
   "cell_type": "code",
   "execution_count": 64,
   "metadata": {
    "colab": {
     "base_uri": "https://localhost:8080/"
    },
    "id": "SXu1ut68WBio",
    "outputId": "feaacfce-c814-4d26-817e-c10401ea51c8"
   },
   "outputs": [
    {
     "data": {
      "text/plain": [
       "['012345 This is a ', ' concatenate me!']"
      ]
     },
     "execution_count": 64,
     "metadata": {},
     "output_type": "execute_result"
    }
   ],
   "source": [
    "# Split by a specific element (doesn't include the element that was split on)\n",
    "var_string.split('string')"
   ]
  },
  {
   "cell_type": "markdown",
   "metadata": {
    "id": "7c6-scmdGsQa"
   },
   "source": [
    "Wait, what variable type is that? Well, it's a list, which we'll see shortly."
   ]
  },
  {
   "cell_type": "markdown",
   "metadata": {
    "id": "PZcBcd_bWBiz"
   },
   "source": [
    "### Print Formatting\n",
    "\n",
    "We can use the .format() method to add formatted objects to printed string statements. \n",
    "\n",
    "The easiest way to show this is through an example:"
   ]
  },
  {
   "cell_type": "code",
   "execution_count": null,
   "metadata": {
    "id": "2fEu7J5OWBi4"
   },
   "outputs": [],
   "source": [
    "'Insert another {} string with curly brackets: {}'.format('The inserted string',\"the 2nd str\")"
   ]
  },
  {
   "cell_type": "markdown",
   "metadata": {
    "id": "erMJl629WBi7"
   },
   "source": [
    "We will see more of this in future tutorials."
   ]
  },
  {
   "cell_type": "markdown",
   "metadata": {
    "deletable": true,
    "editable": true,
    "id": "bxn0pLyqZMEX"
   },
   "source": [
    "## Lists\n",
    "\n",
    "Lists are sequences of objects, that can be of many different types. We can create lists by including the objects within square brackets. Like:\n"
   ]
  },
  {
   "cell_type": "code",
   "execution_count": 66,
   "metadata": {
    "colab": {
     "base_uri": "https://localhost:8080/"
    },
    "deletable": true,
    "editable": true,
    "id": "FMLrDpkiZMEZ",
    "outputId": "e86bbcc3-781d-4d6e-f2b4-30096a5c41d4"
   },
   "outputs": [
    {
     "name": "stdout",
     "output_type": "stream",
     "text": [
      "8\n"
     ]
    }
   ],
   "source": [
    "var_list = [1, 2, 3, 4, 5, 6, 7, 8]\n",
    "# lists have the attribute len too! They're sequences after all...\n",
    "print(len(var_list))"
   ]
  },
  {
   "cell_type": "markdown",
   "metadata": {
    "id": "basSsfOKE6Tr"
   },
   "source": [
    "Since lists are sequences, we can index them like we did for strings:"
   ]
  },
  {
   "cell_type": "code",
   "execution_count": null,
   "metadata": {
    "id": "b_Q4FHoAG1IC"
   },
   "outputs": [],
   "source": []
  },
  {
   "cell_type": "code",
   "execution_count": 67,
   "metadata": {
    "colab": {
     "base_uri": "https://localhost:8080/"
    },
    "deletable": true,
    "editable": true,
    "id": "bmCKv4WZZMEe",
    "outputId": "4b72f653-8d50-40c2-8c82-91dfa4a33a95"
   },
   "outputs": [
    {
     "data": {
      "text/plain": [
       "[1, 2, 3]"
      ]
     },
     "execution_count": 67,
     "metadata": {},
     "output_type": "execute_result"
    }
   ],
   "source": [
    "var_list[:3]"
   ]
  },
  {
   "cell_type": "code",
   "execution_count": 68,
   "metadata": {
    "colab": {
     "base_uri": "https://localhost:8080/"
    },
    "deletable": true,
    "editable": true,
    "id": "QEmjxyB9ZMEl",
    "outputId": "7d7e0aeb-3e29-4c28-be22-cc16deb577d3"
   },
   "outputs": [
    {
     "data": {
      "text/plain": [
       "[4, 5, 6, 7, 8]"
      ]
     },
     "execution_count": 68,
     "metadata": {},
     "output_type": "execute_result"
    }
   ],
   "source": [
    "var_list[3:]"
   ]
  },
  {
   "cell_type": "code",
   "execution_count": 69,
   "metadata": {
    "colab": {
     "base_uri": "https://localhost:8080/"
    },
    "deletable": true,
    "editable": true,
    "id": "wYDmyssfZMEr",
    "outputId": "82bd8667-4c2a-4d8a-cf3a-3bc99ce77769"
   },
   "outputs": [
    {
     "data": {
      "text/plain": [
       "[7, 8]"
      ]
     },
     "execution_count": 69,
     "metadata": {},
     "output_type": "execute_result"
    }
   ],
   "source": [
    "var_list[-2:]"
   ]
  },
  {
   "cell_type": "markdown",
   "metadata": {
    "id": "mUpyXSqXFEPH"
   },
   "source": [
    "We can add new objects at the end (and only at the end) of a list. We can do this in different ways:\n",
    "1. with the method `extend`\n",
    "2. with the method `append`\n",
    "3. with the addition operator"
   ]
  },
  {
   "cell_type": "code",
   "execution_count": 71,
   "metadata": {
    "colab": {
     "base_uri": "https://localhost:8080/"
    },
    "deletable": true,
    "editable": true,
    "id": "KmaMpqPQZME1",
    "outputId": "ad4fcca8-d7c7-46be-8443-54b8ac941f6c"
   },
   "outputs": [
    {
     "data": {
      "text/plain": [
       "[1, 2, 3, 4, 5, 6, 7, 8, 7, 8, 7, 8]"
      ]
     },
     "execution_count": 71,
     "metadata": {},
     "output_type": "execute_result"
    }
   ],
   "source": [
    "var_list.extend([7,8])\n",
    "var_list"
   ]
  },
  {
   "cell_type": "code",
   "execution_count": 72,
   "metadata": {
    "colab": {
     "base_uri": "https://localhost:8080/"
    },
    "deletable": true,
    "editable": true,
    "id": "DI2Mr7tZZME6",
    "outputId": "f7bc594b-81b9-4fdc-83d4-4a563a703fbe"
   },
   "outputs": [
    {
     "data": {
      "text/plain": [
       "[1, 2, 3, 4, 5, 6, 7, 8, 7, 8, 7, 8, 9]"
      ]
     },
     "execution_count": 72,
     "metadata": {},
     "output_type": "execute_result"
    }
   ],
   "source": [
    "var_list.append(9)\n",
    "var_list"
   ]
  },
  {
   "cell_type": "code",
   "execution_count": 73,
   "metadata": {
    "colab": {
     "base_uri": "https://localhost:8080/"
    },
    "id": "rTmgtfkKFc6X",
    "outputId": "0f78df47-d4a8-4535-86a1-24f1515255c6"
   },
   "outputs": [
    {
     "data": {
      "text/plain": [
       "[1, 2, 3, 4, 5, 6, 7, 8, 7, 8, 7, 8, 9, 10]"
      ]
     },
     "execution_count": 73,
     "metadata": {},
     "output_type": "execute_result"
    }
   ],
   "source": [
    "var_list += [10]\n",
    "var_list"
   ]
  },
  {
   "cell_type": "markdown",
   "metadata": {
    "id": "2DZ2cU8RFLvJ"
   },
   "source": [
    "Lists are pretty versatile and can contain any type of object. Even different types in the same list. Even a list itself..."
   ]
  },
  {
   "cell_type": "code",
   "execution_count": 77,
   "metadata": {
    "colab": {
     "base_uri": "https://localhost:8080/"
    },
    "deletable": true,
    "editable": true,
    "id": "09FuUVMnZMFD",
    "outputId": "29b59555-93cf-428f-f956-b12878c2baba"
   },
   "outputs": [
    {
     "data": {
      "text/plain": [
       "[[1, 2, 3, 4, 5, 6, 7, 8, 7, 8, 7, 8, 9, 10], [20, 21, 22]]"
      ]
     },
     "execution_count": 77,
     "metadata": {},
     "output_type": "execute_result"
    }
   ],
   "source": [
    "new_var_list = [20, 21, 22]\n",
    "list_of_lists = [var_list, new_var_list]\n",
    "list_of_lists"
   ]
  },
  {
   "cell_type": "markdown",
   "metadata": {
    "id": "QQJlaVgfF5GH"
   },
   "source": [
    "We can index lists of lists by having one indexing follow the other. That is, we need to use two sets of square brackets, like this:"
   ]
  },
  {
   "cell_type": "code",
   "execution_count": 78,
   "metadata": {
    "colab": {
     "base_uri": "https://localhost:8080/"
    },
    "deletable": true,
    "editable": true,
    "id": "uZFbrZZJZMFJ",
    "outputId": "24d6b8b8-5d11-4669-c7a3-449beb218094"
   },
   "outputs": [
    {
     "data": {
      "text/plain": [
       "20"
      ]
     },
     "execution_count": 78,
     "metadata": {},
     "output_type": "execute_result"
    }
   ],
   "source": [
    "# take the index 0 from the list with index 1 (that is, the second list)\n",
    "list_of_lists[1][0]"
   ]
  },
  {
   "cell_type": "code",
   "execution_count": 79,
   "metadata": {
    "colab": {
     "base_uri": "https://localhost:8080/"
    },
    "id": "FUGyqgrVGRqm",
    "outputId": "744c7d45-00ff-4a7a-ea8d-6675300ab167"
   },
   "outputs": [
    {
     "name": "stdout",
     "output_type": "stream",
     "text": [
      "[0, '0', [1, '1']]\n"
     ]
    }
   ],
   "source": [
    "#Finally, an example of list with mixed object types\n",
    "mixed_list = [0, '0', [1,'1']]\n",
    "print(mixed_list)"
   ]
  },
  {
   "cell_type": "markdown",
   "metadata": {
    "deletable": true,
    "editable": true,
    "id": "F0gf0RQKZMFk"
   },
   "source": [
    "## Tuples"
   ]
  },
  {
   "cell_type": "code",
   "execution_count": 80,
   "metadata": {
    "colab": {
     "base_uri": "https://localhost:8080/"
    },
    "deletable": true,
    "editable": true,
    "id": "HBUm-m8oZMFm",
    "outputId": "99a531a9-72a3-43fb-d6fe-c38fd4cd0533"
   },
   "outputs": [
    {
     "data": {
      "text/plain": [
       "3"
      ]
     },
     "execution_count": 80,
     "metadata": {},
     "output_type": "execute_result"
    }
   ],
   "source": [
    "#Tuples are just immutable lists. Use () instead of []\n",
    "var_tuple = (1, 2, 3)\n",
    "len(var_tuple)"
   ]
  },
  {
   "cell_type": "code",
   "execution_count": 81,
   "metadata": {
    "colab": {
     "base_uri": "https://localhost:8080/"
    },
    "deletable": true,
    "editable": true,
    "id": "jtspguNzZMFq",
    "outputId": "d81d9602-9e76-4f60-c61a-948ec3878cce"
   },
   "outputs": [
    {
     "data": {
      "text/plain": [
       "6"
      ]
     },
     "execution_count": 81,
     "metadata": {},
     "output_type": "execute_result"
    }
   ],
   "source": [
    "new_var_tuple = (4, 5, 6)\n",
    "new_var_tuple[2]"
   ]
  },
  {
   "cell_type": "code",
   "execution_count": 83,
   "metadata": {
    "colab": {
     "base_uri": "https://localhost:8080/"
    },
    "deletable": true,
    "editable": true,
    "id": "n_3KDQ5hZMF4",
    "outputId": "b8ecbda3-1ebb-4ce8-afb2-07d3f21692d7"
   },
   "outputs": [
    {
     "data": {
      "text/plain": [
       "[(1, 2, 3), (4, 5, 6)]"
      ]
     },
     "execution_count": 83,
     "metadata": {},
     "output_type": "execute_result"
    }
   ],
   "source": [
    "list_of_tuples = [var_tuple, new_var_tuple]\n",
    "list_of_tuples"
   ]
  },
  {
   "cell_type": "markdown",
   "metadata": {
    "id": "EUhH-ELj_Fiu"
   },
   "source": [
    "## Dictionaries\n",
    "\n",
    "We've looked at *sequences* in Python but now we're going to switch gears and learn about *mappings* in Python. It is basically similar to hash tables or maps in other languages.\n",
    "\n",
    "So what are mappings? Mappings are a collection of objects that are stored by a *key*, unlike a sequence that stored objects by their relative position. This is an important distinction, since mappings won't retain order since they have objects defined by a key.\n",
    "\n",
    "A Python dictionary consists of a key and an associated value. That value can be almost any Python object."
   ]
  },
  {
   "cell_type": "markdown",
   "metadata": {
    "id": "P2TgovvQBYhP"
   },
   "source": [
    "### Constructing a Dictionary\n",
    "Let's see how we can construct dictionaries to get a better understanding of how they work!"
   ]
  },
  {
   "cell_type": "code",
   "execution_count": null,
   "metadata": {
    "id": "vtBMWJhZ_Fi1"
   },
   "outputs": [],
   "source": [
    "# Make a dictionary with {} and : to signify a key and a value\n",
    "my_dict = {'key1':'value1','key2':'value2'}\n",
    "\n",
    "# Call values by their key\n",
    "my_dict['key1']"
   ]
  },
  {
   "cell_type": "markdown",
   "metadata": {
    "id": "IMp9L0OK_FjZ"
   },
   "source": [
    "Its important to note that dictionaries are very flexible in the data types they can hold. For example:"
   ]
  },
  {
   "cell_type": "code",
   "execution_count": null,
   "metadata": {
    "id": "QMCJSamy_Fjc"
   },
   "outputs": [],
   "source": [
    "my_dict = {'key1':123,'key2':[12,23,33],'key3':['item0','item1','item2']}"
   ]
  },
  {
   "cell_type": "code",
   "execution_count": null,
   "metadata": {
    "id": "BFyfjtFR_Fjn"
   },
   "outputs": [],
   "source": [
    "# Let's call items from the dictionary\n",
    "my_dict['key3']"
   ]
  },
  {
   "cell_type": "code",
   "execution_count": null,
   "metadata": {
    "id": "TrHocA9T_Fj0"
   },
   "outputs": [],
   "source": [
    "# Can call an index on that value\n",
    "my_dict['key2']"
   ]
  },
  {
   "cell_type": "code",
   "execution_count": null,
   "metadata": {
    "id": "00o19FgW_FkA"
   },
   "outputs": [],
   "source": [
    "# Can then even call methods on that value\n",
    "my_dict['key3'][0].upper()"
   ]
  },
  {
   "cell_type": "markdown",
   "metadata": {
    "id": "P8eHedWC_FkJ"
   },
   "source": [
    "We can affect the values of a key as well. For instance:"
   ]
  },
  {
   "cell_type": "code",
   "execution_count": null,
   "metadata": {
    "id": "AHL8iSjI_FkL"
   },
   "outputs": [],
   "source": [
    "my_dict['key1']"
   ]
  },
  {
   "cell_type": "code",
   "execution_count": null,
   "metadata": {
    "id": "O7HKmxd3_Fka"
   },
   "outputs": [],
   "source": [
    "# Subtract 123 from the value\n",
    "my_dict['key1'] = my_dict['key1'] + 103"
   ]
  },
  {
   "cell_type": "code",
   "execution_count": null,
   "metadata": {
    "id": "m8ybTPJ__Fkn"
   },
   "outputs": [],
   "source": [
    "#Check\n",
    "my_dict['key1']"
   ]
  },
  {
   "cell_type": "markdown",
   "metadata": {
    "id": "35rcavIR_Fk2"
   },
   "source": [
    "A quick note, Python has a built-in method of doing a self subtraction or addition (or multiplication or division). We could have also used += or -= for the above statement. For example:"
   ]
  },
  {
   "cell_type": "code",
   "execution_count": null,
   "metadata": {
    "id": "Vv1EKOi-_Fk5"
   },
   "outputs": [],
   "source": [
    "# Set the object equal to itself minus 123 \n",
    "my_dict['key1'] -= 123\n",
    "\n",
    "#check\n",
    "my_dict['key1']"
   ]
  },
  {
   "cell_type": "markdown",
   "metadata": {
    "id": "T4wai7BC_FmG"
   },
   "source": [
    "### A few Dictionary Methods\n",
    "\n",
    "There are a few methods we can call on a dictionary. Let's get a quick introduction to a few of them:"
   ]
  },
  {
   "cell_type": "code",
   "execution_count": 85,
   "metadata": {
    "id": "uTjH1FGs_FmH"
   },
   "outputs": [],
   "source": [
    "# Create a typical dictionary\n",
    "d = {'key1':1,'key2':2,'key3':3}"
   ]
  },
  {
   "cell_type": "code",
   "execution_count": 87,
   "metadata": {
    "colab": {
     "base_uri": "https://localhost:8080/"
    },
    "id": "hFT6zzyl_FmO",
    "outputId": "4e154f02-2732-4a07-cb53-d90ba7e838bf"
   },
   "outputs": [
    {
     "data": {
      "text/plain": [
       "dict_keys(['key1', 'key2', 'key3'])"
      ]
     },
     "execution_count": 87,
     "metadata": {},
     "output_type": "execute_result"
    }
   ],
   "source": [
    "# Method to return all the keys \n",
    "d.keys()"
   ]
  },
  {
   "cell_type": "code",
   "execution_count": 88,
   "metadata": {
    "colab": {
     "base_uri": "https://localhost:8080/"
    },
    "id": "FeMS_LRv_Fmk",
    "outputId": "6d823e7d-6190-4da2-8a9c-9824e8918579"
   },
   "outputs": [
    {
     "data": {
      "text/plain": [
       "dict_values([1, 2, 3])"
      ]
     },
     "execution_count": 88,
     "metadata": {},
     "output_type": "execute_result"
    }
   ],
   "source": [
    "# Method to grab all values\n",
    "d.values()"
   ]
  },
  {
   "cell_type": "code",
   "execution_count": 89,
   "metadata": {
    "colab": {
     "base_uri": "https://localhost:8080/"
    },
    "id": "oWDAkOf__Fmt",
    "outputId": "6fa8c338-cde0-4286-e721-980c38585e71"
   },
   "outputs": [
    {
     "data": {
      "text/plain": [
       "dict_items([('key1', 1), ('key2', 2), ('key3', 3)])"
      ]
     },
     "execution_count": 89,
     "metadata": {},
     "output_type": "execute_result"
    }
   ],
   "source": [
    "# Method to return tuples of all items\n",
    "d.items()"
   ]
  },
  {
   "cell_type": "markdown",
   "metadata": {
    "deletable": true,
    "editable": true,
    "id": "N0KHbS6GZMGI"
   },
   "source": [
    "### Another way for creating dictionaries"
   ]
  },
  {
   "cell_type": "markdown",
   "metadata": {
    "id": "EUuTR3qL_FlD"
   },
   "source": [
    "We can also create keys by assignment. For instance if we started off with an empty dictionary, we could continually add to it:"
   ]
  },
  {
   "cell_type": "code",
   "execution_count": null,
   "metadata": {
    "deletable": true,
    "editable": true,
    "id": "Rniux0pKZMGK"
   },
   "outputs": [],
   "source": [
    "# Like a map or hash table in other languages\n",
    "captains = {}\n",
    "captains[\"Enterprise\"] = \"Kirk\"\n",
    "captains[\"Enterprise D\"] = \"Picard\"\n",
    "captains[\"Deep Space Nine\"] = \"Sisko\"\n",
    "captains[\"Voyager\"] = \"Janeway\"\n",
    "\n",
    "print(captains[\"Voyager\"])"
   ]
  },
  {
   "cell_type": "code",
   "execution_count": null,
   "metadata": {
    "deletable": true,
    "editable": true,
    "id": "MQF27dEHZMGP"
   },
   "outputs": [],
   "source": [
    "print(captains.get(\"Enterprise\"))"
   ]
  },
  {
   "cell_type": "code",
   "execution_count": null,
   "metadata": {
    "deletable": true,
    "editable": true,
    "id": "UUfY8QfRZMGY"
   },
   "outputs": [],
   "source": [
    "print(captains.get(\"NX-01\"))"
   ]
  },
  {
   "cell_type": "code",
   "execution_count": null,
   "metadata": {
    "deletable": true,
    "editable": true,
    "id": "layPUTNfZMGd"
   },
   "outputs": [],
   "source": [
    "for ship in captains:\n",
    "    print(ship + \": \" + captains[ship])"
   ]
  },
  {
   "cell_type": "markdown",
   "metadata": {
    "deletable": true,
    "editable": true,
    "id": "bZjy2b-UZMGk"
   },
   "source": [
    "# Functions\n",
    "\n",
    "Functions are pieces of code that define a specific behaviour. They take some parameters as input and return a specific output. Functions are defined by the keyword `def` followed by the name of the function, the parameters within brackets and a colon \":\". That is:\n",
    "\n"
   ]
  },
  {
   "cell_type": "code",
   "execution_count": 91,
   "metadata": {
    "colab": {
     "base_uri": "https://localhost:8080/"
    },
    "deletable": true,
    "editable": true,
    "id": "LIdut9x8ZMGm",
    "outputId": "81f5cbde-e62f-4015-c8b2-65cbcbf1bb46"
   },
   "outputs": [
    {
     "name": "stdout",
     "output_type": "stream",
     "text": [
      "4\n",
      "9\n"
     ]
    }
   ],
   "source": [
    "# here the function is DEFINED\n",
    "def SquareIt(x):\n",
    "    #x is the input parameter\n",
    "    # this function returns the square of the input x:\n",
    "    return x ** 2\n",
    "\n",
    "# here the function is CALLED\n",
    "# a function CALL is performed using its name followed by the specific parameter \n",
    "# we want to apply the function too\n",
    "print(SquareIt(2))\n",
    "\n",
    "# we can also apply functions to variables\n",
    "var_num= 3\n",
    "print(SquareIt(3))"
   ]
  },
  {
   "cell_type": "markdown",
   "metadata": {
    "id": "UWJReXmxIX73"
   },
   "source": [
    "There is lots of flexibility with functions, but we'll only mention two main features for now.\n",
    "\n",
    "1. We can pass multiple arguments and get multiple outputs:\n",
    "2. Some of the parameters can have a default value, so that even if we don't pass those parameters when we call the function, Python knows what the default value should be. However, we can still give those parameters a value different from the default.\n",
    "\n",
    "Like this:"
   ]
  },
  {
   "cell_type": "code",
   "execution_count": 93,
   "metadata": {
    "colab": {
     "base_uri": "https://localhost:8080/"
    },
    "deletable": true,
    "editable": true,
    "id": "gSzytzUXZMGp",
    "outputId": "728154d4-6e6c-4994-eab1-8714e478d3bd"
   },
   "outputs": [
    {
     "name": "stdout",
     "output_type": "stream",
     "text": [
      "(5, 6)\n",
      "(13, 30)\n"
     ]
    }
   ],
   "source": [
    "#You can pass functions around as parameters\n",
    "def MultipleOperations(x, y =2):\n",
    "    # takes two parameters, returns two outputs\n",
    "    return x+y, x*y\n",
    "\n",
    "# Note that for readability we also use the name of the parameters to the function\n",
    "# This way we don't have to remember the order of the parameters in the definition\n",
    "print(MultipleOperations(x=3)) #should return 5 and 6\n",
    "print(MultipleOperations(x=3,y=10)) #should return 13 and 30\n"
   ]
  },
  {
   "cell_type": "markdown",
   "metadata": {
    "deletable": true,
    "editable": true,
    "id": "fjr-sY8_ZMG5"
   },
   "source": [
    "# Boolean Expressions\n",
    "\n",
    "Boolean expression are used to evaluated conditions. That is, whether something is True or False. Some common boolean operators are:\n",
    "1. A==B: check if A is equal to B\n",
    "2. A>B: check if A is greater than B (variants are: >=, <, <=)\n",
    "\n",
    "We can also combine boolean expression by using operators like `and` and `or`."
   ]
  },
  {
   "cell_type": "code",
   "execution_count": 94,
   "metadata": {
    "colab": {
     "base_uri": "https://localhost:8080/"
    },
    "deletable": true,
    "editable": true,
    "id": "lXmn-F7ZZMG6",
    "outputId": "91af2eab-8b05-4883-ef76-dd18523a9b71"
   },
   "outputs": [
    {
     "name": "stdout",
     "output_type": "stream",
     "text": [
      "False\n"
     ]
    }
   ],
   "source": [
    "print(1 == 3)"
   ]
  },
  {
   "cell_type": "code",
   "execution_count": 95,
   "metadata": {
    "colab": {
     "base_uri": "https://localhost:8080/"
    },
    "deletable": true,
    "editable": true,
    "id": "PH5cx4SfZMHD",
    "outputId": "4d388c45-bdfb-4137-d5f8-a51dfbbeb47d"
   },
   "outputs": [
    {
     "name": "stdout",
     "output_type": "stream",
     "text": [
      "True\n"
     ]
    }
   ],
   "source": [
    "print(True or False)"
   ]
  },
  {
   "cell_type": "markdown",
   "metadata": {
    "id": "mwu41l_sKvm5"
   },
   "source": [
    "We can use Boolean operator with `if` statements, which allows us to execute different code blocks based on a given condition. For example, we may want to select the highest amongst two variables and assign that one to a new variable. Like this:"
   ]
  },
  {
   "cell_type": "code",
   "execution_count": 98,
   "metadata": {
    "colab": {
     "base_uri": "https://localhost:8080/"
    },
    "deletable": true,
    "editable": true,
    "id": "c8PfS12jZMHT",
    "outputId": "9575726c-aad1-4986-800e-f572f6271312"
   },
   "outputs": [
    {
     "name": "stdout",
     "output_type": "stream",
     "text": [
      "3\n"
     ]
    }
   ],
   "source": [
    "first_var=1\n",
    "second_var=3\n",
    "\n",
    "if first_var == second_var:\n",
    "    final_var= first_var\n",
    "elif first_var > second_var:\n",
    "    final_var= first_var\n",
    "else:\n",
    "    final_var= second_var\n",
    "\n",
    "print(final_var)"
   ]
  },
  {
   "cell_type": "markdown",
   "metadata": {
    "id": "lWod2UlzLhEi"
   },
   "source": [
    "NOTE the colon (:) a the end of each if statement and the indented blocks! White spaces at the beginning of a line really do matter in Python. If the code was like this it would give an error:"
   ]
  },
  {
   "cell_type": "code",
   "execution_count": 99,
   "metadata": {
    "colab": {
     "base_uri": "https://localhost:8080/",
     "height": 137
    },
    "id": "LRzgwqGzLu-7",
    "outputId": "2d294067-a62c-49c9-a2f9-2ac55a57ed6e"
   },
   "outputs": [
    {
     "ename": "IndentationError",
     "evalue": "ignored",
     "output_type": "error",
     "traceback": [
      "\u001b[0;36m  File \u001b[0;32m\"<ipython-input-99-e0eab41695a4>\"\u001b[0;36m, line \u001b[0;32m5\u001b[0m\n\u001b[0;31m    final_var= first_var\u001b[0m\n\u001b[0m            ^\u001b[0m\n\u001b[0;31mIndentationError\u001b[0m\u001b[0;31m:\u001b[0m expected an indented block\n"
     ]
    }
   ],
   "source": [
    "first_var=1\n",
    "second_var=3\n",
    "\n",
    "if first_var == second_var:\n",
    "final_var= first_var\n",
    "elif first_var > second_var:\n",
    "final_var= first_var\n",
    "else:\n",
    "final_var= second_var\n",
    "\n",
    "print(final_var)"
   ]
  },
  {
   "cell_type": "markdown",
   "metadata": {
    "deletable": true,
    "editable": true,
    "id": "tVPGvJtXZMHb"
   },
   "source": [
    "# Loops\n",
    "\n",
    "Finally, we can iterate over a collection of objects (like a list!) using the `for` operator. The syntax has the keyword `for`, followed by a variable that will store the value of the loop index, followed by all the values we want to iterate over, followed by the colon (:). [And don't forget the indentation block!]\n"
   ]
  },
  {
   "cell_type": "code",
   "execution_count": 100,
   "metadata": {
    "colab": {
     "base_uri": "https://localhost:8080/"
    },
    "deletable": true,
    "editable": true,
    "id": "jKKl-rRvZMHc",
    "outputId": "e03d74b1-6f3c-4300-ad5a-4d4b2e112219"
   },
   "outputs": [
    {
     "name": "stdout",
     "output_type": "stream",
     "text": [
      "0\n",
      "1\n",
      "2\n",
      "3\n",
      "4\n",
      "5\n",
      "6\n",
      "7\n",
      "8\n",
      "9\n"
     ]
    }
   ],
   "source": [
    "# iterate over all numbers from 0 to 10\n",
    "for x in [0,1,2,3,4,5,6,7,8,9]:\n",
    "    print(x)"
   ]
  },
  {
   "cell_type": "markdown",
   "metadata": {
    "id": "YYEFl2rGNRYT"
   },
   "source": [
    "we can replace the list [0,1,2,3,4,5,6,7,8,9] with the output of the function range(10). Specifically, the function range(x) will output all the numbers from 0 up to and **excluding** x. So:"
   ]
  },
  {
   "cell_type": "code",
   "execution_count": 101,
   "metadata": {
    "colab": {
     "base_uri": "https://localhost:8080/"
    },
    "deletable": true,
    "editable": true,
    "id": "CqtzWL4VZMHg",
    "outputId": "229daeea-5340-42d5-d00b-53bddedc6f73"
   },
   "outputs": [
    {
     "name": "stdout",
     "output_type": "stream",
     "text": [
      "0\n",
      "1\n",
      "2\n",
      "3\n",
      "4\n",
      "5\n",
      "6\n",
      "7\n",
      "8\n",
      "9\n"
     ]
    }
   ],
   "source": [
    "for x in range(10):\n",
    "    print(x)\n",
    "    "
   ]
  },
  {
   "cell_type": "markdown",
   "metadata": {
    "id": "jfZimvqrNrRd"
   },
   "source": [
    "Finally, we can:\n",
    "1. Have `if` conditions within `for` loops\n",
    "2. Control `for` loops with two keywords:\n",
    "    * `continue`: skip the rest of the block of code that comes after this keyword and move to the next index in the `for` loop\n",
    "    * `break`: skip the rest of the block of code that comes after this keyword and stop the whole `for` loop .\n",
    "\n",
    "For example:"
   ]
  },
  {
   "cell_type": "code",
   "execution_count": 103,
   "metadata": {
    "colab": {
     "base_uri": "https://localhost:8080/"
    },
    "deletable": true,
    "editable": true,
    "id": "GvnjIGvVZMHn",
    "outputId": "574799b4-33b2-4735-aa9d-8607f63caeac"
   },
   "outputs": [
    {
     "name": "stdout",
     "output_type": "stream",
     "text": [
      "0\n",
      "2\n",
      "3\n",
      "4\n",
      "5\n"
     ]
    }
   ],
   "source": [
    "# iterate from 0 to 9, ignore the number 1, print the other numbers and stops when 5 has been printed \n",
    "for x in range(10):\n",
    "    if x is 1:\n",
    "        continue\n",
    "    if (x > 5):\n",
    "        break \n",
    "    print(x)"
   ]
  },
  {
   "cell_type": "markdown",
   "metadata": {
    "id": "aHXrHHlAMd3r"
   },
   "source": [
    "For more information about conditionals and loops, have a look [at this link](https://www.tutorialspoint.com/python/python_decision_making.htm) and [this other one](https://www.tutorialspoint.com/python/python_loops.htm)."
   ]
  },
  {
   "cell_type": "markdown",
   "metadata": {
    "deletable": true,
    "editable": true,
    "id": "90kYHBIfZMHu"
   },
   "source": [
    "#Activity"
   ]
  },
  {
   "cell_type": "markdown",
   "metadata": {
    "deletable": true,
    "editable": true,
    "id": "qfAk0-8fZMHw"
   },
   "source": [
    "Write some code that creates a list of integers (any integer), loops through each element of the list, and only prints out each number multiplied by 2"
   ]
  },
  {
   "cell_type": "code",
   "execution_count": null,
   "metadata": {
    "deletable": true,
    "editable": true,
    "id": "xCV-MuVNZMHx"
   },
   "outputs": [],
   "source": [
    "\n",
    "  \n"
   ]
  },
  {
   "cell_type": "markdown",
   "metadata": {
    "id": "tzyt6oW3DHDP"
   },
   "source": [
    "# Some notes about Python arithmetic\n",
    "\n",
    "In Python you can do all the basic operations: \n",
    "+,-,*\n",
    "\n",
    "*   addition with +\n",
    "*   subtraction with -\n",
    "*   multiplication with *\n",
    "*   division with /\n",
    "*   Exponentiation with ** (with the square root being **0.5, try it!)\n",
    "*   List item\n",
    "\n",
    "\n",
    "\n",
    "There are also two special types of divisions:\n",
    "\n",
    "*   Floor division: here only the integer part of the results of the division is returned\n",
    "*   Modulo division: returns the remainder after the division\n",
    "\n",
    "That is:\n"
   ]
  },
  {
   "cell_type": "code",
   "execution_count": null,
   "metadata": {
    "id": "m3N-L5gnDHEP"
   },
   "outputs": [],
   "source": [
    "# Floor Division\n",
    "print(7//4) \n",
    "#7 divided by 4 is 1.75, so its integer part is 1\n"
   ]
  },
  {
   "cell_type": "code",
   "execution_count": 21,
   "metadata": {
    "colab": {
     "base_uri": "https://localhost:8080/"
    },
    "id": "L1ng6S9yDHEd",
    "outputId": "01e74c34-2978-42a9-d9ae-a4b287987419"
   },
   "outputs": [
    {
     "name": "stdout",
     "output_type": "stream",
     "text": [
      "3\n"
     ]
    }
   ],
   "source": [
    "# Modulo division\n",
    "print(7%4)\n"
   ]
  },
  {
   "cell_type": "markdown",
   "metadata": {
    "id": "fDGlezZ-D9dx"
   },
   "source": [
    "Note that if you're updating a variable by performing an arithmetic operation on itself, you can use some shortcuts. Python lets you add, subtract, multiply and divide numbers with reassignment using `+=`, `-=`, `*=`, `/=` and `**=`. For example:"
   ]
  },
  {
   "cell_type": "code",
   "execution_count": 26,
   "metadata": {
    "colab": {
     "base_uri": "https://localhost:8080/"
    },
    "id": "N4-gIQkfD9d0",
    "outputId": "c41f8921-282d-4345-a845-fd9fbc36e536"
   },
   "outputs": [
    {
     "name": "stdout",
     "output_type": "stream",
     "text": [
      "9\n"
     ]
    }
   ],
   "source": [
    "var_num= 5\n",
    "var_num += 4 #this adds 10 to var_num and assigns the result to var_num\n",
    "print(var_num)"
   ]
  },
  {
   "cell_type": "code",
   "execution_count": 27,
   "metadata": {
    "colab": {
     "base_uri": "https://localhost:8080/"
    },
    "id": "ZZuDltaSD9eL",
    "outputId": "01c00dce-8be0-4f83-fd01-d04adca8877d"
   },
   "outputs": [
    {
     "name": "stdout",
     "output_type": "stream",
     "text": [
      "3.0\n"
     ]
    }
   ],
   "source": [
    "var_num **= .5 #this takes the square root of var_num and assigns the result to var_num\n",
    "print(var_num)"
   ]
  },
  {
   "cell_type": "code",
   "execution_count": null,
   "metadata": {
    "id": "-cO004hk51Gs"
   },
   "outputs": [],
   "source": []
  }
 ],
 "metadata": {
  "colab": {
   "collapsed_sections": [
    "axK1IFy8ZMDv",
    "4DVztZshZMDz",
    "UuDHRK9QZMEN",
    "p3VdBQaaDHDA",
    "5qe5bQcRDHEv",
    "-ZcfjsmUDHFf",
    "QYUDMMAGD9cF",
    "BWq9M7kuD9c4",
    "z0OSwEF8D9c7",
    "-VEbPIqBD9dj",
    "_vs590iAD9eo",
    "UPFdQGvVWBeE",
    "bxn0pLyqZMEX",
    "F0gf0RQKZMFk",
    "EUhH-ELj_Fiu",
    "bZjy2b-UZMGk",
    "fjr-sY8_ZMG5",
    "tVPGvJtXZMHb",
    "90kYHBIfZMHu"
   ],
   "name": "COMP1804_Lab_1_Python_Basics.ipynb",
   "provenance": [],
   "toc_visible": true
  },
  "kernelspec": {
   "display_name": "Python 3 (ipykernel)",
   "language": "python",
   "name": "python3"
  },
  "language_info": {
   "codemirror_mode": {
    "name": "ipython",
    "version": 3
   },
   "file_extension": ".py",
   "mimetype": "text/x-python",
   "name": "python",
   "nbconvert_exporter": "python",
   "pygments_lexer": "ipython3",
   "version": "3.10.9"
  }
 },
 "nbformat": 4,
 "nbformat_minor": 4
}
